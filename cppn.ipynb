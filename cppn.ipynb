{
 "cells": [
  {
   "cell_type": "code",
   "execution_count": 1,
   "metadata": {},
   "outputs": [],
   "source": [
    "import numpy as np\n",
    "from PIL import Image"
   ]
  },
  {
   "cell_type": "code",
   "execution_count": 2,
   "metadata": {},
   "outputs": [],
   "source": [
    "img_data = np.array([\n",
    "    [[255, 0, 0], [0, 255, 0], [0, 0, 255]],\n",
    "    [[255, 255, 0], [255, 0, 255], [0, 255, 255]]\n",
    "], dtype=np.uint8)\n",
    "\n",
    "img = Image.fromarray(img_data)\n",
    "img.save('test.png')"
   ]
  },
  {
   "cell_type": "code",
   "execution_count": 3,
   "metadata": {},
   "outputs": [],
   "source": [
    "batch_size = 1\n",
    "net_size = 16\n",
    "h_size = 32\n",
    "x_res = 10\n",
    "y_res = 10\n",
    "scaling = 1.0\n",
    "c_dim = 3"
   ]
  },
  {
   "cell_type": "code",
   "execution_count": 4,
   "metadata": {},
   "outputs": [],
   "source": [
    "def sigmoid(x):\n",
    "    return 1.0 / (1.0 + np.exp(-x))\n",
    "\n",
    "def std_normal(row, col):\n",
    "    return np.random.standard_normal((row, col)).astype(np.float32)"
   ]
  },
  {
   "cell_type": "code",
   "execution_count": 8,
   "metadata": {},
   "outputs": [
    {
     "data": {
      "text/plain": [
       "array([[1.41421356, 1.26686158, 1.1439589 , 1.05409255, 1.0061539 ,\n",
       "        1.0061539 , 1.05409255, 1.1439589 , 1.26686158, 1.41421356],\n",
       "       [1.26686158, 1.09994388, 0.95581392, 0.84619701, 0.7856742 ,\n",
       "        0.7856742 , 0.84619701, 0.95581392, 1.09994388, 1.26686158],\n",
       "       [1.1439589 , 0.95581392, 0.7856742 , 0.64788354, 0.56655772,\n",
       "        0.56655772, 0.64788354, 0.7856742 , 0.95581392, 1.1439589 ],\n",
       "       [1.05409255, 0.84619701, 0.64788354, 0.47140452, 0.35136418,\n",
       "        0.35136418, 0.47140452, 0.64788354, 0.84619701, 1.05409255],\n",
       "       [1.0061539 , 0.7856742 , 0.56655772, 0.35136418, 0.15713484,\n",
       "        0.15713484, 0.35136418, 0.56655772, 0.7856742 , 1.0061539 ],\n",
       "       [1.0061539 , 0.7856742 , 0.56655772, 0.35136418, 0.15713484,\n",
       "        0.15713484, 0.35136418, 0.56655772, 0.7856742 , 1.0061539 ],\n",
       "       [1.05409255, 0.84619701, 0.64788354, 0.47140452, 0.35136418,\n",
       "        0.35136418, 0.47140452, 0.64788354, 0.84619701, 1.05409255],\n",
       "       [1.1439589 , 0.95581392, 0.7856742 , 0.64788354, 0.56655772,\n",
       "        0.56655772, 0.64788354, 0.7856742 , 0.95581392, 1.1439589 ],\n",
       "       [1.26686158, 1.09994388, 0.95581392, 0.84619701, 0.7856742 ,\n",
       "        0.7856742 , 0.84619701, 0.95581392, 1.09994388, 1.26686158],\n",
       "       [1.41421356, 1.26686158, 1.1439589 , 1.05409255, 1.0061539 ,\n",
       "        1.0061539 , 1.05409255, 1.1439589 , 1.26686158, 1.41421356]])"
      ]
     },
     "execution_count": 8,
     "metadata": {},
     "output_type": "execute_result"
    }
   ],
   "source": [
    "hid_vec = np.random.uniform(-1, 1, (batch_size, h_size)).astype(np.float32)\n",
    "\n",
    "# Generate a grid of points\n",
    "num_points = x_res * y_res\n",
    "x_range = np.linspace(-1*scaling, scaling, x_res)\n",
    "y_range = np.linspace(-1*scaling, scaling, y_res)\n",
    "\n",
    "x_mat = np.matmul(np.ones((y_res, 1)), x_range.reshape((1, x_res)))\n",
    "y_mat = np.matmul(y_range.reshape((y_res, 1)), np.ones((1, x_res)))\n",
    "r_mat = np.sqrt(x_mat**2 + y_mat**2)\n",
    "r_mat"
   ]
  },
  {
   "cell_type": "code",
   "execution_count": 15,
   "metadata": {},
   "outputs": [
    {
     "data": {
      "image/png": "[encoded data removed]",
      "text/plain": [
       "<Figure size 640x480 with 2 Axes>"
      ]
     },
     "metadata": {},
     "output_type": "display_data"
    }
   ],
   "source": [
    "import numpy as np\n",
    "import matplotlib.pyplot as plt\n",
    "\n",
    "# Define the activation functions\n",
    "def sigmoid(x):\n",
    "    return 1 / (1 + np.exp(-x))\n",
    "\n",
    "def gaussian(x):\n",
    "    return np.exp(-np.power(x, 2))\n",
    "\n",
    "def sine(x):\n",
    "    return np.sin(x)\n",
    "\n",
    "def identity(x):\n",
    "    return x\n",
    "\n",
    "# Define the CPPN class\n",
    "class CPPN:\n",
    "    def __init__(self, weights, functions):\n",
    "        self.weights = weights\n",
    "        self.functions = functions\n",
    "    \n",
    "    def evaluate(self, x, y):\n",
    "        inputs = np.array([x, y])\n",
    "        output = 0\n",
    "        for weight, function in zip(self.weights, self.functions):\n",
    "            output += weight * function(inputs)\n",
    "        return sigmoid(output)\n",
    "\n",
    "# Create a sample CPPN with weights and functions\n",
    "weights = [10.0, 1.0, 1.0]\n",
    "functions = [\n",
    "    lambda coords: gaussian(np.linalg.norm(coords)),\n",
    "    lambda coords: sine(coords[0]),\n",
    "    lambda coords: identity(coords[1])\n",
    "]\n",
    "\n",
    "cppn = CPPN(weights, functions)\n",
    "\n",
    "# Generate a pattern on a 2D grid\n",
    "grid_size = 100\n",
    "pattern = np.zeros((grid_size, grid_size))\n",
    "for i in range(grid_size):\n",
    "    for j in range(grid_size):\n",
    "        x = (i - grid_size // 2) / (grid_size // 2)\n",
    "        y = (j - grid_size // 2) / (grid_size // 2)\n",
    "        pattern[i, j] = cppn.evaluate(x, y)\n",
    "\n",
    "# Visualize the pattern\n",
    "plt.imshow(pattern, cmap='gray')\n",
    "plt.colorbar()\n",
    "plt.show()\n"
   ]
  },
  {
   "cell_type": "code",
   "execution_count": null,
   "metadata": {},
   "outputs": [],
   "source": []
  }
 ],
 "metadata": {
  "kernelspec": {
   "display_name": "env_jax",
   "language": "python",
   "name": "python3"
  },
  "language_info": {
   "codemirror_mode": {
    "name": "ipython",
    "version": 3
   },
   "file_extension": ".py",
   "mimetype": "text/x-python",
   "name": "python",
   "nbconvert_exporter": "python",
   "pygments_lexer": "ipython3",
   "version": "3.11.9"
  }
 },
 "nbformat": 4,
 "nbformat_minor": 2
}
