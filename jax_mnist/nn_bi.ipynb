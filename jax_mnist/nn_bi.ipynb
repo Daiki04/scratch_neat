{
 "cells": [
  {
   "cell_type": "code",
   "execution_count": 1,
   "metadata": {},
   "outputs": [
    {
     "name": "stderr",
     "output_type": "stream",
     "text": [
      "2024-05-09 10:51:03.882232: I tensorflow/core/platform/cpu_feature_guard.cc:210] This TensorFlow binary is optimized to use available CPU instructions in performance-critical operations.\n",
      "To enable the following instructions: AVX2 FMA, in other operations, rebuild TensorFlow with the appropriate compiler flags.\n",
      "2024-05-09 10:51:05.455221: W tensorflow/compiler/tf2tensorrt/utils/py_utils.cc:38] TF-TRT Warning: Could not find TensorRT\n"
     ]
    }
   ],
   "source": [
    "import numpy as np\n",
    "import matplotlib.pyplot as plt\n",
    "from pandas import DataFrame\n",
    "from tensorflow.keras.datasets import mnist\n",
    "import warnings\n",
    "\n",
    "import jax, optax\n",
    "from jax import random, numpy as jnp\n",
    "from flax import linen as nn\n",
    "from flax.training import train_state\n",
    "\n",
    "plt.rcParams.update({'font.size': 12})\n",
    "warnings.simplefilter('ignore')"
   ]
  },
  {
   "cell_type": "markdown",
   "metadata": {},
   "source": [
    "## 3層NN"
   ]
  },
  {
   "cell_type": "code",
   "execution_count": 2,
   "metadata": {},
   "outputs": [],
   "source": [
    "(train_images, train_labels), (test_images, test_labels) = mnist.load_data()\n",
    "\n",
    "train_images = train_images.reshape([-1, 784]).astype('float32') / 255\n",
    "test_images = test_images.reshape([-1, 784]).astype('float32') / 255\n",
    "\n",
    "train_index = np.where((train_labels == 0) | (train_labels == 1))[0]\n",
    "test_index = np.where((test_labels == 0) | (test_labels == 1))[0]\n",
    "\n",
    "train_images = train_images[train_index]\n",
    "train_labels = train_labels[train_index].reshape([-1, 1])\n",
    "\n",
    "test_images = test_images[test_index]\n",
    "test_labels = test_labels[test_index].reshape([-1, 1])"
   ]
  },
  {
   "cell_type": "code",
   "execution_count": 3,
   "metadata": {},
   "outputs": [],
   "source": [
    "def create_batches(data, batch_size):\n",
    "    num_batches, mod = divmod(len(data), batch_size) # divmod(a,b):a/bの割り算の商とあまりを取得\n",
    "    data_batched = np.split(data[:num_batches * batch_size], num_batches)\n",
    "    if mod:\n",
    "        data_batched.append(data[num_batches * batch_size:])\n",
    "    data_batched = [jnp.asarray(x) for x in data_batched]\n",
    "    return data_batched"
   ]
  },
  {
   "cell_type": "code",
   "execution_count": 4,
   "metadata": {},
   "outputs": [],
   "source": [
    "class SoftmaxEstimationModel(nn.Module):\n",
    "    @nn.compact\n",
    "    def __call__(self, x, get_logits=False):\n",
    "        x = nn.Dense(features=512)(x)\n",
    "        x = nn.relu(x)\n",
    "        x = nn.Dense(features=1)(x)\n",
    "        if get_logits:\n",
    "            return x\n",
    "        x = nn.softmax(x)\n",
    "        return x"
   ]
  },
  {
   "cell_type": "code",
   "execution_count": 5,
   "metadata": {},
   "outputs": [
    {
     "name": "stderr",
     "output_type": "stream",
     "text": [
      "'+ptx84' is not a recognized feature for this target (ignoring feature)\n",
      "'+ptx84' is not a recognized feature for this target (ignoring feature)\n",
      "'+ptx84' is not a recognized feature for this target (ignoring feature)\n",
      "'+ptx84' is not a recognized feature for this target (ignoring feature)\n",
      "'+ptx84' is not a recognized feature for this target (ignoring feature)\n",
      "'+ptx84' is not a recognized feature for this target (ignoring feature)\n",
      "'+ptx84' is not a recognized feature for this target (ignoring feature)\n",
      "'+ptx84' is not a recognized feature for this target (ignoring feature)\n",
      "'+ptx84' is not a recognized feature for this target (ignoring feature)\n",
      "'+ptx84' is not a recognized feature for this target (ignoring feature)\n",
      "'+ptx84' is not a recognized feature for this target (ignoring feature)\n",
      "'+ptx84' is not a recognized feature for this target (ignoring feature)\n",
      "'+ptx84' is not a recognized feature for this target (ignoring feature)\n",
      "'+ptx84' is not a recognized feature for this target (ignoring feature)\n",
      "'+ptx84' is not a recognized feature for this target (ignoring feature)\n",
      "'+ptx84' is not a recognized feature for this target (ignoring feature)\n",
      "'+ptx84' is not a recognized feature for this target (ignoring feature)\n",
      "'+ptx84' is not a recognized feature for this target (ignoring feature)\n",
      "'+ptx84' is not a recognized feature for this target (ignoring feature)\n",
      "'+ptx84' is not a recognized feature for this target (ignoring feature)\n",
      "'+ptx84' is not a recognized feature for this target (ignoring feature)\n",
      "'+ptx84' is not a recognized feature for this target (ignoring feature)\n",
      "'+ptx84' is not a recognized feature for this target (ignoring feature)\n",
      "'+ptx84' is not a recognized feature for this target (ignoring feature)\n",
      "'+ptx84' is not a recognized feature for this target (ignoring feature)\n",
      "'+ptx84' is not a recognized feature for this target (ignoring feature)\n",
      "'+ptx84' is not a recognized feature for this target (ignoring feature)\n",
      "'+ptx84' is not a recognized feature for this target (ignoring feature)\n",
      "'+ptx84' is not a recognized feature for this target (ignoring feature)\n",
      "'+ptx84' is not a recognized feature for this target (ignoring feature)\n",
      "'+ptx84' is not a recognized feature for this target (ignoring feature)\n",
      "'+ptx84' is not a recognized feature for this target (ignoring feature)\n",
      "'+ptx84' is not a recognized feature for this target (ignoring feature)\n",
      "'+ptx84' is not a recognized feature for this target (ignoring feature)\n",
      "'+ptx84' is not a recognized feature for this target (ignoring feature)\n",
      "'+ptx84' is not a recognized feature for this target (ignoring feature)\n",
      "'+ptx84' is not a recognized feature for this target (ignoring feature)\n",
      "'+ptx84' is not a recognized feature for this target (ignoring feature)\n",
      "'+ptx84' is not a recognized feature for this target (ignoring feature)\n",
      "'+ptx84' is not a recognized feature for this target (ignoring feature)\n",
      "'+ptx84' is not a recognized feature for this target (ignoring feature)\n",
      "'+ptx84' is not a recognized feature for this target (ignoring feature)\n",
      "'+ptx84' is not a recognized feature for this target (ignoring feature)\n",
      "'+ptx84' is not a recognized feature for this target (ignoring feature)\n",
      "'+ptx84' is not a recognized feature for this target (ignoring feature)\n",
      "'+ptx84' is not a recognized feature for this target (ignoring feature)\n",
      "'+ptx84' is not a recognized feature for this target (ignoring feature)\n",
      "'+ptx84' is not a recognized feature for this target (ignoring feature)\n",
      "'+ptx84' is not a recognized feature for this target (ignoring feature)\n",
      "'+ptx84' is not a recognized feature for this target (ignoring feature)\n",
      "'+ptx84' is not a recognized feature for this target (ignoring feature)\n",
      "'+ptx84' is not a recognized feature for this target (ignoring feature)\n",
      "'+ptx84' is not a recognized feature for this target (ignoring feature)\n",
      "'+ptx84' is not a recognized feature for this target (ignoring feature)\n",
      "'+ptx84' is not a recognized feature for this target (ignoring feature)\n",
      "'+ptx84' is not a recognized feature for this target (ignoring feature)\n",
      "'+ptx84' is not a recognized feature for this target (ignoring feature)\n",
      "'+ptx84' is not a recognized feature for this target (ignoring feature)\n",
      "'+ptx84' is not a recognized feature for this target (ignoring feature)\n",
      "'+ptx84' is not a recognized feature for this target (ignoring feature)\n"
     ]
    },
    {
     "data": {
      "text/plain": [
       "{'Dense_0': {'bias': (512,), 'kernel': (784, 512)},\n",
       " 'Dense_1': {'bias': (1,), 'kernel': (512, 1)}}"
      ]
     },
     "execution_count": 5,
     "metadata": {},
     "output_type": "execute_result"
    }
   ],
   "source": [
    "key, key1 = random.split(random.PRNGKey(0))\n",
    "variables = SoftmaxEstimationModel().init(key1, train_images[0:1])\n",
    "\n",
    "jax.tree_util.tree_map(lambda x: x.shape, variables['params'])"
   ]
  },
  {
   "cell_type": "code",
   "execution_count": 6,
   "metadata": {},
   "outputs": [
    {
     "name": "stderr",
     "output_type": "stream",
     "text": [
      "'+ptx84' is not a recognized feature for this target (ignoring feature)\n",
      "'+ptx84' is not a recognized feature for this target (ignoring feature)\n",
      "'+ptx84' is not a recognized feature for this target (ignoring feature)\n",
      "'+ptx84' is not a recognized feature for this target (ignoring feature)\n",
      "'+ptx84' is not a recognized feature for this target (ignoring feature)\n",
      "'+ptx84' is not a recognized feature for this target (ignoring feature)\n"
     ]
    }
   ],
   "source": [
    "state = train_state.TrainState.create(\n",
    "    apply_fn = SoftmaxEstimationModel().apply,\n",
    "    params = variables['params'],\n",
    "    tx = optax.adam(learning_rate=0.001)\n",
    ")"
   ]
  },
  {
   "cell_type": "code",
   "execution_count": 7,
   "metadata": {},
   "outputs": [],
   "source": [
    "@jax.jit\n",
    "def train_step(state, inputs, labels):\n",
    "    # loss以外も返す場合はhas_aux=True\n",
    "    (loss, acc), grads = jax.value_and_grad(loss_fn, has_aux=True)(\n",
    "        state.params,\n",
    "        state,\n",
    "        inputs,\n",
    "        labels\n",
    "    )\n",
    "    new_state = state.apply_gradients(grads=grads)\n",
    "    return new_state, loss, acc"
   ]
  },
  {
   "cell_type": "code",
   "execution_count": 8,
   "metadata": {},
   "outputs": [],
   "source": [
    "@jax.jit\n",
    "def loss_fn(params, state, inputs, labels):\n",
    "    logits = state.apply_fn({'params': params}, inputs, get_logits=True)\n",
    "    loss = optax.sigmoid_binary_cross_entropy(logits, labels).mean()\n",
    "    acc = jnp.mean(jnp.sign(logits) == jnp.sign(labels-0.5))\n",
    "    return loss, acc"
   ]
  },
  {
   "cell_type": "code",
   "execution_count": 9,
   "metadata": {},
   "outputs": [],
   "source": [
    "def train_epoch(state, input_batched, label_batched, eval):\n",
    "    loss_history, acc_history = [], []\n",
    "    for inputs, labels in zip(input_batched, label_batched):\n",
    "        new_state, loss, acc = train_step(state, inputs, labels)\n",
    "        if not eval:\n",
    "            state = new_state\n",
    "        loss_history.append(jax.device_get(loss).tolist())\n",
    "        acc_history.append(jax.device_get(acc).tolist())\n",
    "    return state, np.mean(loss_history), np.mean(acc_history)"
   ]
  },
  {
   "cell_type": "code",
   "execution_count": 10,
   "metadata": {},
   "outputs": [],
   "source": [
    "def fit(state, train_inputs, train_labels, test_inputs, test_labels, epochs, batch_size):\n",
    "    train_inputs_batched = create_batches(train_inputs, batch_size)\n",
    "    train_labels_batched = create_batches(train_labels, batch_size)\n",
    "    test_inputs_batched = create_batches(test_inputs, batch_size)\n",
    "    test_labels_batched = create_batches(test_labels, batch_size)\n",
    "\n",
    "    loss_history_train, acc_history_train = [], []\n",
    "    loss_history_test, acc_history_test = [], []\n",
    "\n",
    "    for epoch in range(1, epochs+1):\n",
    "        # Train\n",
    "        state, loss_train, acc_train = train_epoch(state, train_inputs_batched, train_labels_batched, eval=False)\n",
    "        loss_history_train.append(loss_train)\n",
    "        acc_history_train.append(acc_train)\n",
    "\n",
    "        # Eval\n",
    "        _, loss_test, acc_test = train_epoch(state, test_inputs_batched, test_labels_batched, eval=True)\n",
    "        loss_history_test.append(loss_test)\n",
    "        acc_history_test.append(acc_test)\n",
    "\n",
    "        print ('Epoch: {}, Loss: {:.4f}, Accuracy {:.4f}'.format(epoch, loss_train, acc_train), flush=True, end='')\n",
    "        print (' Test: Loss: {:.4f}, Accuracy {:.4f}'.format(loss_test, acc_test), flush=True)\n",
    "\n",
    "    history = {'loss_train': loss_history_train,\n",
    "           'acc_train': acc_history_train,\n",
    "           'loss_test': loss_history_test,\n",
    "           'acc_test': acc_history_test}\n",
    "\n",
    "    return state, history"
   ]
  },
  {
   "cell_type": "code",
   "execution_count": 11,
   "metadata": {},
   "outputs": [
    {
     "name": "stderr",
     "output_type": "stream",
     "text": [
      "'+ptx84' is not a recognized feature for this target (ignoring feature)\n",
      "'+ptx84' is not a recognized feature for this target (ignoring feature)\n",
      "'+ptx84' is not a recognized feature for this target (ignoring feature)\n",
      "'+ptx84' is not a recognized feature for this target (ignoring feature)\n",
      "'+ptx84' is not a recognized feature for this target (ignoring feature)\n",
      "'+ptx84' is not a recognized feature for this target (ignoring feature)\n"
     ]
    },
    {
     "name": "stdout",
     "output_type": "stream",
     "text": [
      "Epoch: 1, Loss: 0.0268, Accuracy 0.9947 Test: Loss: 0.0022, Accuracy 0.9995\n"
     ]
    },
    {
     "name": "stderr",
     "output_type": "stream",
     "text": [
      "'+ptx84' is not a recognized feature for this target (ignoring feature)\n",
      "'+ptx84' is not a recognized feature for this target (ignoring feature)\n",
      "'+ptx84' is not a recognized feature for this target (ignoring feature)\n"
     ]
    },
    {
     "name": "stdout",
     "output_type": "stream",
     "text": [
      "Epoch: 2, Loss: 0.0030, Accuracy 0.9991 Test: Loss: 0.0018, Accuracy 0.9995\n",
      "Epoch: 3, Loss: 0.0019, Accuracy 0.9994 Test: Loss: 0.0017, Accuracy 0.9995\n",
      "Epoch: 4, Loss: 0.0011, Accuracy 0.9997 Test: Loss: 0.0021, Accuracy 0.9995\n",
      "Epoch: 5, Loss: 0.0007, Accuracy 0.9998 Test: Loss: 0.0019, Accuracy 0.9995\n",
      "Epoch: 6, Loss: 0.0004, Accuracy 1.0000 Test: Loss: 0.0016, Accuracy 0.9995\n",
      "Epoch: 7, Loss: 0.0002, Accuracy 1.0000 Test: Loss: 0.0014, Accuracy 0.9995\n",
      "Epoch: 8, Loss: 0.0002, Accuracy 1.0000 Test: Loss: 0.0014, Accuracy 0.9991\n",
      "Epoch: 9, Loss: 0.0001, Accuracy 1.0000 Test: Loss: 0.0014, Accuracy 0.9991\n",
      "Epoch: 10, Loss: 0.0001, Accuracy 1.0000 Test: Loss: 0.0014, Accuracy 0.9991\n",
      "Epoch: 11, Loss: 0.0001, Accuracy 1.0000 Test: Loss: 0.0013, Accuracy 0.9991\n",
      "Epoch: 12, Loss: 0.0001, Accuracy 1.0000 Test: Loss: 0.0013, Accuracy 0.9991\n",
      "Epoch: 13, Loss: 0.0001, Accuracy 1.0000 Test: Loss: 0.0013, Accuracy 0.9991\n",
      "Epoch: 14, Loss: 0.0000, Accuracy 1.0000 Test: Loss: 0.0013, Accuracy 0.9991\n",
      "Epoch: 15, Loss: 0.0000, Accuracy 1.0000 Test: Loss: 0.0012, Accuracy 0.9991\n",
      "Epoch: 16, Loss: 0.0000, Accuracy 1.0000 Test: Loss: 0.0012, Accuracy 0.9995\n",
      "CPU times: user 4.22 s, sys: 4.06 s, total: 8.28 s\n",
      "Wall time: 7.94 s\n"
     ]
    }
   ],
   "source": [
    "%%time\n",
    "state, history = fit(state, train_images, train_labels, test_images, test_labels, epochs=16, batch_size=128)"
   ]
  },
  {
   "cell_type": "code",
   "execution_count": 12,
   "metadata": {},
   "outputs": [
    {
     "data": {
      "image/png": "[encoded data removed]",
      "text/plain": [
       "<Figure size 600x400 with 1 Axes>"
      ]
     },
     "metadata": {},
     "output_type": "display_data"
    },
    {
     "data": {
      "image/png": "[encoded data removed]",
      "text/plain": [
       "<Figure size 600x400 with 1 Axes>"
      ]
     },
     "metadata": {},
     "output_type": "display_data"
    }
   ],
   "source": [
    "\n",
    "df = DataFrame({'Accuracy (Train)': history['acc_train'],\n",
    "                'Accuracy (Test)': history['acc_test']})\n",
    "df.index.name = 'Epochs'\n",
    "ax = df.plot(figsize=(6, 4))\n",
    "ax.set_xticks(df.index)\n",
    "_ = ax.set_xticklabels(df.index+1)\n",
    "\n",
    "df = DataFrame({'Loss (Train)': history['loss_train'],\n",
    "                'Loss (Test)': history['loss_test']})\n",
    "df.index.name = 'Epochs'\n",
    "ax = df.plot(figsize=(6, 4))\n",
    "ax.set_xticks(df.index)\n",
    "_ = ax.set_xticklabels(df.index+1)"
   ]
  },
  {
   "cell_type": "code",
   "execution_count": null,
   "metadata": {},
   "outputs": [],
   "source": []
  }
 ],
 "metadata": {
  "kernelspec": {
   "display_name": "env_jax",
   "language": "python",
   "name": "python3"
  },
  "language_info": {
   "codemirror_mode": {
    "name": "ipython",
    "version": 3
   },
   "file_extension": ".py",
   "mimetype": "text/x-python",
   "name": "python",
   "nbconvert_exporter": "python",
   "pygments_lexer": "ipython3",
   "version": "3.11.9"
  }
 },
 "nbformat": 4,
 "nbformat_minor": 2
}
