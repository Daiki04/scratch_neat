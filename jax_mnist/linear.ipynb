{
 "cells": [
  {
   "cell_type": "code",
   "execution_count": 1,
   "metadata": {},
   "outputs": [
    {
     "name": "stderr",
     "output_type": "stream",
     "text": [
      "2024-05-09 10:47:07.837908: I tensorflow/core/platform/cpu_feature_guard.cc:210] This TensorFlow binary is optimized to use available CPU instructions in performance-critical operations.\n",
      "To enable the following instructions: AVX2 FMA, in other operations, rebuild TensorFlow with the appropriate compiler flags.\n",
      "2024-05-09 10:47:09.999764: W tensorflow/compiler/tf2tensorrt/utils/py_utils.cc:38] TF-TRT Warning: Could not find TensorRT\n"
     ]
    }
   ],
   "source": [
    "import numpy as np\n",
    "import matplotlib.pyplot as plt\n",
    "from pandas import DataFrame\n",
    "from tensorflow.keras.datasets import mnist\n",
    "import warnings\n",
    "\n",
    "import jax, optax\n",
    "from jax import random, numpy as jnp\n",
    "from flax import linen as nn\n",
    "from flax.training import train_state\n",
    "\n",
    "plt.rcParams.update({'font.size': 12})\n",
    "warnings.simplefilter('ignore')"
   ]
  },
  {
   "cell_type": "markdown",
   "metadata": {},
   "source": [
    "## 線形多項分類器"
   ]
  },
  {
   "cell_type": "code",
   "execution_count": 2,
   "metadata": {},
   "outputs": [],
   "source": [
    "(train_images, train_labels), (test_images, test_labels) = mnist.load_data()\n",
    "\n",
    "train_images = train_images.reshape([-1, 784]).astype('float32') / 255\n",
    "test_images = test_images.reshape([-1, 784]).astype('float32') / 255\n",
    "\n",
    "train_labels = np.eye(10)[train_labels]\n",
    "test_labels = np.eye(10)[test_labels]"
   ]
  },
  {
   "cell_type": "code",
   "execution_count": 3,
   "metadata": {},
   "outputs": [],
   "source": [
    "def create_batches(data, batch_size):\n",
    "    num_batches, mod = divmod(len(data), batch_size) # divmod(a,b):a/bの割り算の商とあまりを取得\n",
    "    data_batched = np.split(data[:num_batches * batch_size], num_batches)\n",
    "    if mod:\n",
    "        data_batched.append(data[num_batches * batch_size:])\n",
    "    data_batched = [jnp.asarray(x) for x in data_batched]\n",
    "    return data_batched"
   ]
  },
  {
   "cell_type": "code",
   "execution_count": 4,
   "metadata": {},
   "outputs": [],
   "source": [
    "class SoftmaxEstimationModel(nn.Module):\n",
    "    @nn.compact\n",
    "    def __call__(self, x, get_logits=False):\n",
    "        # x = nn.Dense(features=512)(x)\n",
    "        # x = nn.relu(x)\n",
    "        x = nn.Dense(features=10)(x)\n",
    "        if get_logits:\n",
    "            return x\n",
    "        x = nn.softmax(x)\n",
    "        return x"
   ]
  },
  {
   "cell_type": "code",
   "execution_count": 5,
   "metadata": {},
   "outputs": [
    {
     "name": "stderr",
     "output_type": "stream",
     "text": [
      "'+ptx84' is not a recognized feature for this target (ignoring feature)\n",
      "'+ptx84' is not a recognized feature for this target (ignoring feature)\n",
      "'+ptx84' is not a recognized feature for this target (ignoring feature)\n",
      "'+ptx84' is not a recognized feature for this target (ignoring feature)\n",
      "'+ptx84' is not a recognized feature for this target (ignoring feature)\n",
      "'+ptx84' is not a recognized feature for this target (ignoring feature)\n",
      "'+ptx84' is not a recognized feature for this target (ignoring feature)\n",
      "'+ptx84' is not a recognized feature for this target (ignoring feature)\n",
      "'+ptx84' is not a recognized feature for this target (ignoring feature)\n",
      "'+ptx84' is not a recognized feature for this target (ignoring feature)\n",
      "'+ptx84' is not a recognized feature for this target (ignoring feature)\n",
      "'+ptx84' is not a recognized feature for this target (ignoring feature)\n",
      "'+ptx84' is not a recognized feature for this target (ignoring feature)\n",
      "'+ptx84' is not a recognized feature for this target (ignoring feature)\n",
      "'+ptx84' is not a recognized feature for this target (ignoring feature)\n",
      "'+ptx84' is not a recognized feature for this target (ignoring feature)\n",
      "'+ptx84' is not a recognized feature for this target (ignoring feature)\n",
      "'+ptx84' is not a recognized feature for this target (ignoring feature)\n",
      "'+ptx84' is not a recognized feature for this target (ignoring feature)\n",
      "'+ptx84' is not a recognized feature for this target (ignoring feature)\n",
      "'+ptx84' is not a recognized feature for this target (ignoring feature)\n",
      "'+ptx84' is not a recognized feature for this target (ignoring feature)\n",
      "'+ptx84' is not a recognized feature for this target (ignoring feature)\n",
      "'+ptx84' is not a recognized feature for this target (ignoring feature)\n",
      "'+ptx84' is not a recognized feature for this target (ignoring feature)\n",
      "'+ptx84' is not a recognized feature for this target (ignoring feature)\n",
      "'+ptx84' is not a recognized feature for this target (ignoring feature)\n",
      "'+ptx84' is not a recognized feature for this target (ignoring feature)\n",
      "'+ptx84' is not a recognized feature for this target (ignoring feature)\n",
      "'+ptx84' is not a recognized feature for this target (ignoring feature)\n",
      "'+ptx84' is not a recognized feature for this target (ignoring feature)\n",
      "'+ptx84' is not a recognized feature for this target (ignoring feature)\n",
      "'+ptx84' is not a recognized feature for this target (ignoring feature)\n",
      "'+ptx84' is not a recognized feature for this target (ignoring feature)\n",
      "'+ptx84' is not a recognized feature for this target (ignoring feature)\n",
      "'+ptx84' is not a recognized feature for this target (ignoring feature)\n",
      "'+ptx84' is not a recognized feature for this target (ignoring feature)\n",
      "'+ptx84' is not a recognized feature for this target (ignoring feature)\n",
      "'+ptx84' is not a recognized feature for this target (ignoring feature)\n",
      "'+ptx84' is not a recognized feature for this target (ignoring feature)\n",
      "'+ptx84' is not a recognized feature for this target (ignoring feature)\n",
      "'+ptx84' is not a recognized feature for this target (ignoring feature)\n",
      "'+ptx84' is not a recognized feature for this target (ignoring feature)\n",
      "'+ptx84' is not a recognized feature for this target (ignoring feature)\n",
      "'+ptx84' is not a recognized feature for this target (ignoring feature)\n",
      "'+ptx84' is not a recognized feature for this target (ignoring feature)\n",
      "'+ptx84' is not a recognized feature for this target (ignoring feature)\n",
      "'+ptx84' is not a recognized feature for this target (ignoring feature)\n"
     ]
    },
    {
     "data": {
      "text/plain": [
       "{'Dense_0': {'bias': (10,), 'kernel': (784, 10)}}"
      ]
     },
     "execution_count": 5,
     "metadata": {},
     "output_type": "execute_result"
    }
   ],
   "source": [
    "key, key1 = random.split(random.PRNGKey(0))\n",
    "variables = SoftmaxEstimationModel().init(key1, train_images[0:1])\n",
    "\n",
    "jax.tree_util.tree_map(lambda x: x.shape, variables['params'])"
   ]
  },
  {
   "cell_type": "code",
   "execution_count": 6,
   "metadata": {},
   "outputs": [
    {
     "name": "stderr",
     "output_type": "stream",
     "text": [
      "'+ptx84' is not a recognized feature for this target (ignoring feature)\n",
      "'+ptx84' is not a recognized feature for this target (ignoring feature)\n",
      "'+ptx84' is not a recognized feature for this target (ignoring feature)\n"
     ]
    }
   ],
   "source": [
    "state = train_state.TrainState.create(\n",
    "    apply_fn = SoftmaxEstimationModel().apply,\n",
    "    params = variables['params'],\n",
    "    tx = optax.adam(learning_rate=0.001)\n",
    ")"
   ]
  },
  {
   "cell_type": "code",
   "execution_count": 7,
   "metadata": {},
   "outputs": [],
   "source": [
    "@jax.jit\n",
    "def train_step(state, inputs, labels):\n",
    "    # loss以外も返す場合はhas_aux=True\n",
    "    (loss, acc), grads = jax.value_and_grad(loss_fn, has_aux=True)(\n",
    "        state.params,\n",
    "        state,\n",
    "        inputs,\n",
    "        labels\n",
    "    )\n",
    "    new_state = state.apply_gradients(grads=grads)\n",
    "    return new_state, loss, acc"
   ]
  },
  {
   "cell_type": "code",
   "execution_count": 8,
   "metadata": {},
   "outputs": [],
   "source": [
    "@jax.jit\n",
    "def loss_fn(params, state, inputs, labels):\n",
    "    logits = state.apply_fn({'params': params}, inputs, get_logits=True)\n",
    "    loss = optax.softmax_cross_entropy(logits, labels).mean()\n",
    "    acc = jnp.mean(jnp.argmax(logits, -1) == jnp.argmax(labels, -1))\n",
    "    return loss, acc"
   ]
  },
  {
   "cell_type": "code",
   "execution_count": 9,
   "metadata": {},
   "outputs": [],
   "source": [
    "def train_epoch(state, input_batched, label_batched, eval):\n",
    "    loss_history, acc_history = [], []\n",
    "    for inputs, labels in zip(input_batched, label_batched):\n",
    "        new_state, loss, acc = train_step(state, inputs, labels)\n",
    "        if not eval:\n",
    "            state = new_state\n",
    "        loss_history.append(jax.device_get(loss).tolist())\n",
    "        acc_history.append(jax.device_get(acc).tolist())\n",
    "    return state, np.mean(loss_history), np.mean(acc_history)"
   ]
  },
  {
   "cell_type": "code",
   "execution_count": 10,
   "metadata": {},
   "outputs": [],
   "source": [
    "def fit(state, train_inputs, train_labels, test_inputs, test_labels, epochs, batch_size):\n",
    "    train_inputs_batched = create_batches(train_inputs, batch_size)\n",
    "    train_labels_batched = create_batches(train_labels, batch_size)\n",
    "    test_inputs_batched = create_batches(test_inputs, batch_size)\n",
    "    test_labels_batched = create_batches(test_labels, batch_size)\n",
    "\n",
    "    loss_history_train, acc_history_train = [], []\n",
    "    loss_history_test, acc_history_test = [], []\n",
    "\n",
    "    for epoch in range(1, epochs+1):\n",
    "        # Train\n",
    "        state, loss_train, acc_train = train_epoch(state, train_inputs_batched, train_labels_batched, eval=False)\n",
    "        loss_history_train.append(loss_train)\n",
    "        acc_history_train.append(acc_train)\n",
    "\n",
    "        # Eval\n",
    "        _, loss_test, acc_test = train_epoch(state, test_inputs_batched, test_labels_batched, eval=True)\n",
    "        loss_history_test.append(loss_test)\n",
    "        acc_history_test.append(acc_test)\n",
    "\n",
    "        print ('Epoch: {}, Loss: {:.4f}, Accuracy {:.4f}'.format(epoch, loss_train, acc_train), flush=True, end='')\n",
    "        print (' Test: Loss: {:.4f}, Accuracy {:.4f}'.format(loss_test, acc_test), flush=True)\n",
    "\n",
    "    history = {'loss_train': loss_history_train,\n",
    "           'acc_train': acc_history_train,\n",
    "           'loss_test': loss_history_test,\n",
    "           'acc_test': acc_history_test}\n",
    "\n",
    "    return state, history"
   ]
  },
  {
   "cell_type": "code",
   "execution_count": 11,
   "metadata": {},
   "outputs": [
    {
     "name": "stderr",
     "output_type": "stream",
     "text": [
      "'+ptx84' is not a recognized feature for this target (ignoring feature)\n",
      "'+ptx84' is not a recognized feature for this target (ignoring feature)\n",
      "'+ptx84' is not a recognized feature for this target (ignoring feature)\n",
      "'+ptx84' is not a recognized feature for this target (ignoring feature)\n",
      "'+ptx84' is not a recognized feature for this target (ignoring feature)\n",
      "'+ptx84' is not a recognized feature for this target (ignoring feature)\n"
     ]
    },
    {
     "name": "stdout",
     "output_type": "stream",
     "text": [
      "Epoch: 1, Loss: 0.6755, Accuracy 0.8390 Test: Loss: 0.3840, Accuracy 0.9004\n"
     ]
    },
    {
     "name": "stderr",
     "output_type": "stream",
     "text": [
      "'+ptx84' is not a recognized feature for this target (ignoring feature)\n",
      "'+ptx84' is not a recognized feature for this target (ignoring feature)\n",
      "'+ptx84' is not a recognized feature for this target (ignoring feature)\n"
     ]
    },
    {
     "name": "stdout",
     "output_type": "stream",
     "text": [
      "Epoch: 2, Loss: 0.3670, Accuracy 0.9008 Test: Loss: 0.3202, Accuracy 0.9125\n",
      "Epoch: 3, Loss: 0.3240, Accuracy 0.9109 Test: Loss: 0.2970, Accuracy 0.9168\n",
      "Epoch: 4, Loss: 0.3039, Accuracy 0.9159 Test: Loss: 0.2852, Accuracy 0.9202\n",
      "Epoch: 5, Loss: 0.2918, Accuracy 0.9190 Test: Loss: 0.2782, Accuracy 0.9216\n",
      "Epoch: 6, Loss: 0.2835, Accuracy 0.9214 Test: Loss: 0.2736, Accuracy 0.9227\n",
      "Epoch: 7, Loss: 0.2774, Accuracy 0.9227 Test: Loss: 0.2704, Accuracy 0.9241\n",
      "Epoch: 8, Loss: 0.2726, Accuracy 0.9238 Test: Loss: 0.2681, Accuracy 0.9242\n",
      "Epoch: 9, Loss: 0.2688, Accuracy 0.9249 Test: Loss: 0.2665, Accuracy 0.9251\n",
      "Epoch: 10, Loss: 0.2656, Accuracy 0.9259 Test: Loss: 0.2652, Accuracy 0.9259\n",
      "Epoch: 11, Loss: 0.2629, Accuracy 0.9268 Test: Loss: 0.2642, Accuracy 0.9262\n",
      "Epoch: 12, Loss: 0.2605, Accuracy 0.9274 Test: Loss: 0.2634, Accuracy 0.9268\n",
      "Epoch: 13, Loss: 0.2585, Accuracy 0.9282 Test: Loss: 0.2628, Accuracy 0.9273\n",
      "Epoch: 14, Loss: 0.2567, Accuracy 0.9288 Test: Loss: 0.2624, Accuracy 0.9276\n",
      "Epoch: 15, Loss: 0.2550, Accuracy 0.9296 Test: Loss: 0.2621, Accuracy 0.9277\n",
      "Epoch: 16, Loss: 0.2536, Accuracy 0.9302 Test: Loss: 0.2618, Accuracy 0.9274\n",
      "CPU times: user 10.2 s, sys: 6.18 s, total: 16.4 s\n",
      "Wall time: 19.4 s\n"
     ]
    }
   ],
   "source": [
    "%%time\n",
    "state, history = fit(state, train_images, train_labels, test_images, test_labels, epochs=16, batch_size=128)"
   ]
  },
  {
   "cell_type": "code",
   "execution_count": 13,
   "metadata": {},
   "outputs": [
    {
     "data": {
      "image/png": "[encoded data removed]",
      "text/plain": [
       "<Figure size 600x400 with 1 Axes>"
      ]
     },
     "metadata": {},
     "output_type": "display_data"
    },
    {
     "data": {
      "image/png": "[encoded data removed]",
      "text/plain": [
       "<Figure size 600x400 with 1 Axes>"
      ]
     },
     "metadata": {},
     "output_type": "display_data"
    }
   ],
   "source": [
    "\n",
    "df = DataFrame({'Accuracy (Train)': history['acc_train'],\n",
    "                'Accuracy (Test)': history['acc_test']})\n",
    "df.index.name = 'Epochs'\n",
    "ax = df.plot(figsize=(6, 4))\n",
    "ax.set_xticks(df.index)\n",
    "_ = ax.set_xticklabels(df.index+1)\n",
    "\n",
    "df = DataFrame({'Loss (Train)': history['loss_train'],\n",
    "                'Loss (Test)': history['loss_test']})\n",
    "df.index.name = 'Epochs'\n",
    "ax = df.plot(figsize=(6, 4))\n",
    "ax.set_xticks(df.index)\n",
    "_ = ax.set_xticklabels(df.index+1)"
   ]
  },
  {
   "cell_type": "code",
   "execution_count": null,
   "metadata": {},
   "outputs": [],
   "source": []
  }
 ],
 "metadata": {
  "kernelspec": {
   "display_name": "env_jax",
   "language": "python",
   "name": "python3"
  },
  "language_info": {
   "codemirror_mode": {
    "name": "ipython",
    "version": 3
   },
   "file_extension": ".py",
   "mimetype": "text/x-python",
   "name": "python",
   "nbconvert_exporter": "python",
   "pygments_lexer": "ipython3",
   "version": "3.11.9"
  }
 },
 "nbformat": 4,
 "nbformat_minor": 2
}
