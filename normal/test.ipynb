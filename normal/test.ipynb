{
 "cells": [
  {
   "cell_type": "code",
   "execution_count": 1,
   "metadata": {},
   "outputs": [],
   "source": [
    "a = {}"
   ]
  },
  {
   "cell_type": "code",
   "execution_count": 3,
   "metadata": {},
   "outputs": [],
   "source": [
    "a[1] = {0: 1}"
   ]
  },
  {
   "cell_type": "code",
   "execution_count": 7,
   "metadata": {},
   "outputs": [
    {
     "ename": "TypeError",
     "evalue": "unsupported operand type(s) for +: 'dict' and 'dict'",
     "output_type": "error",
     "traceback": [
      "\u001b[1;31m---------------------------------------------------------------------------\u001b[0m",
      "\u001b[1;31mTypeError\u001b[0m                                 Traceback (most recent call last)",
      "\u001b[1;32mc:\\Users\\daiki\\Documents\\scratch_neat\\qiita_var\\test.ipynb セル 3\u001b[0m line \u001b[0;36m1\n\u001b[1;32m----> <a href='vscode-notebook-cell:/c%3A/Users/daiki/Documents/scratch_neat/qiita_var/test.ipynb#W3sZmlsZQ%3D%3D?line=0'>1</a>\u001b[0m a[\u001b[39m1\u001b[39m] \u001b[39m=\u001b[39m {\u001b[39m1\u001b[39;49m : \u001b[39m1\u001b[39;49m} \u001b[39m+\u001b[39;49m a[\u001b[39m1\u001b[39;49m]\n",
      "\u001b[1;31mTypeError\u001b[0m: unsupported operand type(s) for +: 'dict' and 'dict'"
     ]
    }
   ],
   "source": [
    "a[1] = {1 : 1} + a[1]"
   ]
  },
  {
   "cell_type": "code",
   "execution_count": 6,
   "metadata": {},
   "outputs": [
    {
     "data": {
      "text/plain": [
       "{1: {0: 1, 1: 1}}"
      ]
     },
     "execution_count": 6,
     "metadata": {},
     "output_type": "execute_result"
    }
   ],
   "source": [
    "a"
   ]
  },
  {
   "cell_type": "code",
   "execution_count": 1,
   "metadata": {},
   "outputs": [
    {
     "ename": "TypeError",
     "evalue": "sequence item 0: expected str instance, int found",
     "output_type": "error",
     "traceback": [
      "\u001b[1;31m---------------------------------------------------------------------------\u001b[0m",
      "\u001b[1;31mTypeError\u001b[0m                                 Traceback (most recent call last)",
      "\u001b[1;32mc:\\Users\\daiki\\Documents\\scratch_neat\\qiita_var\\test.ipynb セル 5\u001b[0m line \u001b[0;36m2\n\u001b[0;32m      <a href='vscode-notebook-cell:/c%3A/Users/daiki/Documents/scratch_neat/qiita_var/test.ipynb#W4sZmlsZQ%3D%3D?line=0'>1</a>\u001b[0m a \u001b[39m=\u001b[39m [\u001b[39m1\u001b[39m, \u001b[39m2\u001b[39m, \u001b[39m\"\u001b[39m\u001b[39m3\u001b[39m\u001b[39m\"\u001b[39m]\n\u001b[1;32m----> <a href='vscode-notebook-cell:/c%3A/Users/daiki/Documents/scratch_neat/qiita_var/test.ipynb#W4sZmlsZQ%3D%3D?line=1'>2</a>\u001b[0m \u001b[39mprint\u001b[39m(\u001b[39m\"\u001b[39;49m\u001b[39m\"\u001b[39;49m\u001b[39m.\u001b[39;49mjoin(a))\n",
      "\u001b[1;31mTypeError\u001b[0m: sequence item 0: expected str instance, int found"
     ]
    }
   ],
   "source": [
    "a = [1, 2, \"3\"]\n",
    "print(\"\".join(a))"
   ]
  },
  {
   "cell_type": "code",
   "execution_count": 3,
   "metadata": {},
   "outputs": [
    {
     "name": "stdout",
     "output_type": "stream",
     "text": [
      "|Chapter4|[chapter4.ipynb](https://github.com/Daiki04/Hands-On-Graph-Neural-Networks-Using-Python/blob/main/Chapter04/chapter4.ipynb)|[![Open In Colab](https://colab.research.google.com/assets/colab-badge.svg)](https://colab.research.google.com/github/Daiki04/Hands-On-Graph-Neural-Networks-Using-Python/blob/main/Chapter04/chapter4.ipynb)|\n",
      "|Chapter5|[chapter5.ipynb](https://github.com/Daiki04/Hands-On-Graph-Neural-Networks-Using-Python/blob/main/Chapter05/chapter5.ipynb)|[![Open In Colab](https://colab.research.google.com/assets/colab-badge.svg)](https://colab.research.google.com/github/Daiki04/Hands-On-Graph-Neural-Networks-Using-Python/blob/main/Chapter05/chapter5.ipynb)|\n",
      "|Chapter6|[chapter6.ipynb](https://github.com/Daiki04/Hands-On-Graph-Neural-Networks-Using-Python/blob/main/Chapter06/chapter6.ipynb)|[![Open In Colab](https://colab.research.google.com/assets/colab-badge.svg)](https://colab.research.google.com/github/Daiki04/Hands-On-Graph-Neural-Networks-Using-Python/blob/main/Chapter06/chapter6.ipynb)|\n",
      "|Chapter7|[chapter7.ipynb](https://github.com/Daiki04/Hands-On-Graph-Neural-Networks-Using-Python/blob/main/Chapter07/chapter7.ipynb)|[![Open In Colab](https://colab.research.google.com/assets/colab-badge.svg)](https://colab.research.google.com/github/Daiki04/Hands-On-Graph-Neural-Networks-Using-Python/blob/main/Chapter07/chapter7.ipynb)|\n",
      "|Chapter8|[chapter8.ipynb](https://github.com/Daiki04/Hands-On-Graph-Neural-Networks-Using-Python/blob/main/Chapter08/chapter8.ipynb)|[![Open In Colab](https://colab.research.google.com/assets/colab-badge.svg)](https://colab.research.google.com/github/Daiki04/Hands-On-Graph-Neural-Networks-Using-Python/blob/main/Chapter08/chapter8.ipynb)|\n",
      "|Chapter9|[chapter9.ipynb](https://github.com/Daiki04/Hands-On-Graph-Neural-Networks-Using-Python/blob/main/Chapter09/chapter9.ipynb)|[![Open In Colab](https://colab.research.google.com/assets/colab-badge.svg)](https://colab.research.google.com/github/Daiki04/Hands-On-Graph-Neural-Networks-Using-Python/blob/main/Chapter09/chapter9.ipynb)|\n",
      "|Chapter10|[chapter10.ipynb](https://github.com/Daiki04/Hands-On-Graph-Neural-Networks-Using-Python/blob/main/Chapter10/chapter10.ipynb)|[![Open In Colab](https://colab.research.google.com/assets/colab-badge.svg)](https://colab.research.google.com/github/Daiki04/Hands-On-Graph-Neural-Networks-Using-Python/blob/main/Chapter10/chapter10.ipynb)|\n",
      "|Chapter11|[chapter11.ipynb](https://github.com/Daiki04/Hands-On-Graph-Neural-Networks-Using-Python/blob/main/Chapter11/chapter11.ipynb)|[![Open In Colab](https://colab.research.google.com/assets/colab-badge.svg)](https://colab.research.google.com/github/Daiki04/Hands-On-Graph-Neural-Networks-Using-Python/blob/main/Chapter11/chapter11.ipynb)|\n",
      "|Chapter12|[chapter12.ipynb](https://github.com/Daiki04/Hands-On-Graph-Neural-Networks-Using-Python/blob/main/Chapter12/chapter12.ipynb)|[![Open In Colab](https://colab.research.google.com/assets/colab-badge.svg)](https://colab.research.google.com/github/Daiki04/Hands-On-Graph-Neural-Networks-Using-Python/blob/main/Chapter12/chapter12.ipynb)|\n",
      "|Chapter13|[chapter13.ipynb](https://github.com/Daiki04/Hands-On-Graph-Neural-Networks-Using-Python/blob/main/Chapter13/chapter13.ipynb)|[![Open In Colab](https://colab.research.google.com/assets/colab-badge.svg)](https://colab.research.google.com/github/Daiki04/Hands-On-Graph-Neural-Networks-Using-Python/blob/main/Chapter13/chapter13.ipynb)|\n",
      "|Chapter14|[chapter14.ipynb](https://github.com/Daiki04/Hands-On-Graph-Neural-Networks-Using-Python/blob/main/Chapter14/chapter14.ipynb)|[![Open In Colab](https://colab.research.google.com/assets/colab-badge.svg)](https://colab.research.google.com/github/Daiki04/Hands-On-Graph-Neural-Networks-Using-Python/blob/main/Chapter14/chapter14.ipynb)|\n",
      "|Chapter15|[chapter15.ipynb](https://github.com/Daiki04/Hands-On-Graph-Neural-Networks-Using-Python/blob/main/Chapter15/chapter15.ipynb)|[![Open In Colab](https://colab.research.google.com/assets/colab-badge.svg)](https://colab.research.google.com/github/Daiki04/Hands-On-Graph-Neural-Networks-Using-Python/blob/main/Chapter15/chapter15.ipynb)|\n",
      "|Chapter16|[chapter16.ipynb](https://github.com/Daiki04/Hands-On-Graph-Neural-Networks-Using-Python/blob/main/Chapter16/chapter16.ipynb)|[![Open In Colab](https://colab.research.google.com/assets/colab-badge.svg)](https://colab.research.google.com/github/Daiki04/Hands-On-Graph-Neural-Networks-Using-Python/blob/main/Chapter16/chapter16.ipynb)|\n",
      "|Chapter17|[chapter17.ipynb](https://github.com/Daiki04/Hands-On-Graph-Neural-Networks-Using-Python/blob/main/Chapter17/chapter17.ipynb)|[![Open In Colab](https://colab.research.google.com/assets/colab-badge.svg)](https://colab.research.google.com/github/Daiki04/Hands-On-Graph-Neural-Networks-Using-Python/blob/main/Chapter17/chapter17.ipynb)|\n"
     ]
    }
   ],
   "source": [
    "for i in range(4, 18):\n",
    "    if i < 10:\n",
    "        str = f\"|Chapter{i}|[chapter{i}.ipynb](https://github.com/Daiki04/Hands-On-Graph-Neural-Networks-Using-Python/blob/main/Chapter0{i}/chapter{i}.ipynb)|[![Open In Colab](https://colab.research.google.com/assets/colab-badge.svg)](https://colab.research.google.com/github/Daiki04/Hands-On-Graph-Neural-Networks-Using-Python/blob/main/Chapter0{i}/chapter{i}.ipynb)|\"\n",
    "    else:\n",
    "        str = f\"|Chapter{i}|[chapter{i}.ipynb](https://github.com/Daiki04/Hands-On-Graph-Neural-Networks-Using-Python/blob/main/Chapter{i}/chapter{i}.ipynb)|[![Open In Colab](https://colab.research.google.com/assets/colab-badge.svg)](https://colab.research.google.com/github/Daiki04/Hands-On-Graph-Neural-Networks-Using-Python/blob/main/Chapter{i}/chapter{i}.ipynb)|\"\n",
    "    print(str)"
   ]
  },
  {
   "cell_type": "code",
   "execution_count": null,
   "metadata": {},
   "outputs": [],
   "source": []
  }
 ],
 "metadata": {
  "kernelspec": {
   "display_name": "emv_aco",
   "language": "python",
   "name": "python3"
  },
  "language_info": {
   "codemirror_mode": {
    "name": "ipython",
    "version": 3
   },
   "file_extension": ".py",
   "mimetype": "text/x-python",
   "name": "python",
   "nbconvert_exporter": "python",
   "pygments_lexer": "ipython3",
   "version": "3.11.8"
  }
 },
 "nbformat": 4,
 "nbformat_minor": 2
}
